{
    "cells": [
        {
            "metadata": {},
            "cell_type": "markdown",
            "source": "# My Jupyter Notebook on IBM Watson Studio"
        },
        {
            "metadata": {},
            "cell_type": "markdown",
            "source": "**Joshua Zampetti**  \nData Journalist"
        },
        {
            "metadata": {},
            "cell_type": "markdown",
            "source": "*I am interested in data science to improve my performance at my current job and to someday use the skills learned to write compelling news stories backed by data visualizations.*"
        },
        {
            "metadata": {},
            "cell_type": "markdown",
            "source": "### Using Medicare provider payment data obtained from cms.gov, I'm going to find total Medicare payments for diagnosis-related groups (DRG)"
        },
        {
            "metadata": {},
            "cell_type": "code",
            "source": "import types\nimport pandas as pd\nfrom botocore.client import Config\nimport ibm_boto3\n\n# Retrieve the data uploaded to Watson Studio data assets\nbody = client_bc68d1421bd14325ac4e75afdaafe8a1.get_object(Bucket='datasciencetraining-donotdelete-pr-hwsoahupaufhlp',Key='MEDICARE_CHARGE_INPATIENT_DRGALL_DRG_NATIONAL_FY2018.CSV')['Body']\nif not hasattr(body, \"__iter__\"): body.__iter__ = types.MethodType( __iter__, body )\ndf_data_1 = pd.read_csv(body)\n\n# Add field to show total medicare payments by multiplying the average payments by the number of discharges\ndf_data_1['TOTAL_MEDICARE_PAYMENTS'] = df_data_1['DISCHARGES']*df_data_1['AVERAGE_MEDICARE_PAYMENTS']\ndf_data_1[['DRG_DESC', 'DISCHARGES', 'AVERAGE_MEDICARE_PAYMENTS', 'TOTAL_MEDICARE_PAYMENTS']]\n",
            "execution_count": 19,
            "outputs": [
                {
                    "output_type": "execute_result",
                    "execution_count": 19,
                    "data": {
                        "text/plain": "                                              DRG_DESC  DISCHARGES  \\\n0    001 - HEART TRANSPLANT OR IMPLANT OF HEART ASS...        2424   \n1    002 - HEART TRANSPLANT OR IMPLANT OF HEART ASS...         191   \n2    003 - \"ECMO OR TRACH W MV >96 HRS OR PDX EXC F...       15893   \n3    004 - TRACH W MV >96 HRS OR PDX EXC FACE, MOUT...       13364   \n4    005 - LIVER TRANSPLANT W MCC OR INTESTINAL TRA...        1257   \n..                                                 ...         ...   \n740  982 - EXTENSIVE O.R. PROCEDURE UNRELATED TO PR...       15126   \n741  983 - EXTENSIVE O.R. PROCEDURE UNRELATED TO PR...        3171   \n742  987 - NON-EXTENSIVE O.R. PROC UNRELATED TO PRI...       10928   \n743  988 - NON-EXTENSIVE O.R. PROC UNRELATED TO PRI...        7813   \n744  989 - NON-EXTENSIVE O.R. PROC UNRELATED TO PRI...        1624   \n\n     AVERAGE_MEDICARE_PAYMENTS  TOTAL_MEDICARE_PAYMENTS  \n0                 263700.18320             6.392092e+08  \n1                 152507.92670             2.912901e+07  \n2                 152688.60140             2.426680e+09  \n3                  85091.59413             1.137164e+09  \n4                 125796.08990             1.581257e+08  \n..                         ...                      ...  \n740                19080.26861             2.886081e+08  \n741                13427.25103             4.257781e+07  \n742                28919.52645             3.160326e+08  \n743                13557.59990             1.059255e+08  \n744                 9108.16564             1.479166e+07  \n\n[745 rows x 4 columns]",
                        "text/html": "<div>\n<style scoped>\n    .dataframe tbody tr th:only-of-type {\n        vertical-align: middle;\n    }\n\n    .dataframe tbody tr th {\n        vertical-align: top;\n    }\n\n    .dataframe thead th {\n        text-align: right;\n    }\n</style>\n<table border=\"1\" class=\"dataframe\">\n  <thead>\n    <tr style=\"text-align: right;\">\n      <th></th>\n      <th>DRG_DESC</th>\n      <th>DISCHARGES</th>\n      <th>AVERAGE_MEDICARE_PAYMENTS</th>\n      <th>TOTAL_MEDICARE_PAYMENTS</th>\n    </tr>\n  </thead>\n  <tbody>\n    <tr>\n      <th>0</th>\n      <td>001 - HEART TRANSPLANT OR IMPLANT OF HEART ASS...</td>\n      <td>2424</td>\n      <td>263700.18320</td>\n      <td>6.392092e+08</td>\n    </tr>\n    <tr>\n      <th>1</th>\n      <td>002 - HEART TRANSPLANT OR IMPLANT OF HEART ASS...</td>\n      <td>191</td>\n      <td>152507.92670</td>\n      <td>2.912901e+07</td>\n    </tr>\n    <tr>\n      <th>2</th>\n      <td>003 - \"ECMO OR TRACH W MV &gt;96 HRS OR PDX EXC F...</td>\n      <td>15893</td>\n      <td>152688.60140</td>\n      <td>2.426680e+09</td>\n    </tr>\n    <tr>\n      <th>3</th>\n      <td>004 - TRACH W MV &gt;96 HRS OR PDX EXC FACE, MOUT...</td>\n      <td>13364</td>\n      <td>85091.59413</td>\n      <td>1.137164e+09</td>\n    </tr>\n    <tr>\n      <th>4</th>\n      <td>005 - LIVER TRANSPLANT W MCC OR INTESTINAL TRA...</td>\n      <td>1257</td>\n      <td>125796.08990</td>\n      <td>1.581257e+08</td>\n    </tr>\n    <tr>\n      <th>...</th>\n      <td>...</td>\n      <td>...</td>\n      <td>...</td>\n      <td>...</td>\n    </tr>\n    <tr>\n      <th>740</th>\n      <td>982 - EXTENSIVE O.R. PROCEDURE UNRELATED TO PR...</td>\n      <td>15126</td>\n      <td>19080.26861</td>\n      <td>2.886081e+08</td>\n    </tr>\n    <tr>\n      <th>741</th>\n      <td>983 - EXTENSIVE O.R. PROCEDURE UNRELATED TO PR...</td>\n      <td>3171</td>\n      <td>13427.25103</td>\n      <td>4.257781e+07</td>\n    </tr>\n    <tr>\n      <th>742</th>\n      <td>987 - NON-EXTENSIVE O.R. PROC UNRELATED TO PRI...</td>\n      <td>10928</td>\n      <td>28919.52645</td>\n      <td>3.160326e+08</td>\n    </tr>\n    <tr>\n      <th>743</th>\n      <td>988 - NON-EXTENSIVE O.R. PROC UNRELATED TO PRI...</td>\n      <td>7813</td>\n      <td>13557.59990</td>\n      <td>1.059255e+08</td>\n    </tr>\n    <tr>\n      <th>744</th>\n      <td>989 - NON-EXTENSIVE O.R. PROC UNRELATED TO PRI...</td>\n      <td>1624</td>\n      <td>9108.16564</td>\n      <td>1.479166e+07</td>\n    </tr>\n  </tbody>\n</table>\n<p>745 rows \u00d7 4 columns</p>\n</div>"
                    },
                    "metadata": {}
                }
            ]
        },
        {
            "metadata": {},
            "cell_type": "markdown",
            "source": "\n### Below is horizontal rule\n\n---\n\n### Below is a bulleted list\n\n<ul>\n    <li>Bullet 1</li>\n    <li>Bullet 2</li>\n    <li>Bullet 3</li>\n</ul>\n\n### Below is a numbered list\n\n<ol>\n    <li>Numbered item 1</li>\n    <li>Numbered item 2</li>\n    <li>Numbered item 3</li>\n</ol>\n"
        },
        {
            "metadata": {},
            "cell_type": "code",
            "source": "",
            "execution_count": null,
            "outputs": []
        }
    ],
    "metadata": {
        "kernelspec": {
            "name": "python3",
            "display_name": "Python 3.7",
            "language": "python"
        },
        "language_info": {
            "name": "python",
            "version": "3.7.9",
            "mimetype": "text/x-python",
            "codemirror_mode": {
                "name": "ipython",
                "version": 3
            },
            "pygments_lexer": "ipython3",
            "nbconvert_exporter": "python",
            "file_extension": ".py"
        }
    },
    "nbformat": 4,
    "nbformat_minor": 1
}